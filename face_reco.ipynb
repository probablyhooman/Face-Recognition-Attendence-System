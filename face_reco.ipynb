{
 "cells": [
  {
   "cell_type": "code",
   "execution_count": 2,
   "id": "7efed7fd",
   "metadata": {},
   "outputs": [
    {
     "name": "stdout",
     "output_type": "stream",
     "text": [
      "Requirement already satisfied: opencv_python in c:\\users\\administrator\\anaconda3\\lib\\site-packages (4.6.0)Note: you may need to restart the kernel to use updated packages.\n",
      "\n"
     ]
    }
   ],
   "source": [
    "pip install opencv_python\n"
   ]
  },
  {
   "cell_type": "code",
   "execution_count": 2,
   "id": "4400cea3",
   "metadata": {},
   "outputs": [
    {
     "name": "stdout",
     "output_type": "stream",
     "text": [
      "Requirement already satisfied: face_recognition in c:\\users\\administrator\\anaconda3\\lib\\site-packages (1.3.0)\n",
      "Requirement already satisfied: dlib>=19.7 in c:\\users\\administrator\\anaconda3\\lib\\site-packages (from face_recognition) (19.24.0)\n",
      "Requirement already satisfied: Pillow in c:\\users\\administrator\\anaconda3\\lib\\site-packages (from face_recognition) (9.2.0)\n",
      "Requirement already satisfied: face-recognition-models>=0.3.0 in c:\\users\\administrator\\anaconda3\\lib\\site-packages (from face_recognition) (0.3.0)\n",
      "Requirement already satisfied: numpy in c:\\users\\administrator\\anaconda3\\lib\\site-packages (from face_recognition) (1.23.1)\n",
      "Requirement already satisfied: Click>=6.0 in c:\\users\\administrator\\anaconda3\\lib\\site-packages (from face_recognition) (8.0.4)\n",
      "Requirement already satisfied: colorama in c:\\users\\administrator\\anaconda3\\lib\\site-packages (from Click>=6.0->face_recognition) (0.4.5)\n",
      "Note: you may need to restart the kernel to use updated packages.\n"
     ]
    }
   ],
   "source": [
    "pip install face_recognition"
   ]
  },
  {
   "cell_type": "code",
   "execution_count": 3,
   "id": "96a46737",
   "metadata": {},
   "outputs": [],
   "source": [
    "import face_recognition\n",
    "import cv2\n",
    "import numpy as np\n",
    "import csv\n",
    "import os\n",
    "from datetime import datetime"
   ]
  },
  {
   "cell_type": "code",
   "execution_count": 4,
   "id": "741d7b35",
   "metadata": {},
   "outputs": [],
   "source": [
    "video_capture = cv2.VideoCapture(0)"
   ]
  },
  {
   "cell_type": "code",
   "execution_count": 5,
   "id": "f1779264",
   "metadata": {},
   "outputs": [],
   "source": [
    "ritesh_image = face_recognition.load_image_file(\"photos/ritesh.jpg\")\n",
    "ritesh_encoding = face_recognition.face_encodings(ritesh_image)[0]\n",
    "\n",
    "ratan_image = face_recognition.load_image_file(\"photos/ratan.jpg\")\n",
    "ratan_encoding = face_recognition.face_encodings(ratan_image)[0]\n",
    "\n",
    "ankur_image = face_recognition.load_image_file(\"photos/ankur.jpg\")\n",
    "ankur_encoding = face_recognition.face_encodings(ankur_image)[0]\n",
    "\n",
    "slon_image = face_recognition.load_image_file(\"photos/slon.jpg\")\n",
    "slon_encoding = face_recognition.face_encodings(slon_image)[0]\n",
    "\n",
    "known_face_encoding = [\n",
    "ritesh_encoding,\n",
    "ratan_encoding,\n",
    "ankur_encoding,\n",
    "slon_encoding\n",
    "]\n",
    "\n",
    "known_faces_names = [\n",
    "\"ritesh\",\n",
    "\"ratan\",\n",
    "\"ankur\",\n",
    "\"slon\"\n",
    "]"
   ]
  },
  {
   "cell_type": "code",
   "execution_count": null,
   "id": "6fb13288",
   "metadata": {},
   "outputs": [
    {
     "name": "stdout",
     "output_type": "stream",
     "text": [
      "['ritesh', 'ratan', 'ankur']\n",
      "['ritesh', 'ratan']\n",
      "['ritesh']\n"
     ]
    }
   ],
   "source": [
    "students = known_faces_names.copy()\n",
    "\n",
    "face_locations = []\n",
    "face_encodings = []\n",
    "face_names = []\n",
    "s=True\n",
    "\n",
    "now = datetime.now()\n",
    "current_date = now.strftime(\"%Y-%m-%d\")\n",
    "\n",
    "f = open(current_date+'.csv','w+',newline = '')\n",
    "lnwriter = csv.writer(f)\n",
    "students = known_faces_names.copy()\n",
    " \n",
    "face_locations = []\n",
    "face_encodings = []\n",
    "face_names = []\n",
    "s=True\n",
    " \n",
    " \n",
    "now = datetime.now()\n",
    "current_date = now.strftime(\"%Y-%m-%d\")\n",
    " \n",
    " \n",
    " \n",
    "f = open(current_date+'.csv','w+',newline = '')\n",
    "lnwriter = csv.writer(f)\n",
    " \n",
    "while True:\n",
    "    _,frame = video_capture.read()\n",
    "    small_frame = cv2.resize(frame,(0,0),fx=0.25,fy=0.25)\n",
    "    rgb_small_frame = small_frame[:,:,::-1]\n",
    "    if s:\n",
    "        face_locations = face_recognition.face_locations(rgb_small_frame)\n",
    "        face_encodings = face_recognition.face_encodings(rgb_small_frame,face_locations)\n",
    "        face_names = []\n",
    "        for face_encoding in face_encodings:\n",
    "            matches = face_recognition.compare_faces(known_face_encoding,face_encoding)\n",
    "            name=\"\"\n",
    "            face_distance = face_recognition.face_distance(known_face_encoding,face_encoding)\n",
    "            best_match_index = np.argmin(face_distance)\n",
    "            if matches[best_match_index]:\n",
    "                name = known_faces_names[best_match_index]\n",
    " \n",
    "            face_names.append(name)\n",
    "            if name in known_faces_names:\n",
    "                font = cv2.FONT_HERSHEY_SIMPLEX\n",
    "                bottomLeftCornerOfText = (10,100)\n",
    "                fontScale              = 1.5\n",
    "                fontColor              = (255,0,0)\n",
    "                thickness              = 3\n",
    "                lineType               = 2\n",
    " \n",
    "                cv2.putText(frame,name+' Present', \n",
    "                    bottomLeftCornerOfText, \n",
    "                    font, \n",
    "                    fontScale,\n",
    "                    fontColor,\n",
    "                    thickness,\n",
    "                    lineType)\n",
    " \n",
    "                if name in students:\n",
    "                    students.remove(name)\n",
    "                    print(students)\n",
    "                    current_time = now.strftime(\"%H-%M-%S\")\n",
    "                    lnwriter.writerow([name,current_time])\n",
    "    cv2.imshow(\"attendence system\",frame)\n",
    "    if cv2.waitKey(1) & 0xFF == ord('q'):\n",
    "        break\n",
    " \n",
    "video_capture.release()\n",
    "cv2.destroyAllWindows()\n",
    "f.close()"
   ]
  },
  {
   "cell_type": "code",
   "execution_count": null,
   "id": "6a4ceca9",
   "metadata": {},
   "outputs": [],
   "source": []
  }
 ],
 "metadata": {
  "kernelspec": {
   "display_name": "Python 3 (ipykernel)",
   "language": "python",
   "name": "python3"
  },
  "language_info": {
   "codemirror_mode": {
    "name": "ipython",
    "version": 3
   },
   "file_extension": ".py",
   "mimetype": "text/x-python",
   "name": "python",
   "nbconvert_exporter": "python",
   "pygments_lexer": "ipython3",
   "version": "3.9.7"
  }
 },
 "nbformat": 4,
 "nbformat_minor": 5
}
